{
 "cells": [
  {
   "cell_type": "markdown",
   "id": "d74370f4-b368-49a4-9a0d-3b2a74b17af9",
   "metadata": {},
   "source": [
    "## Final report"
   ]
  },
  {
   "cell_type": "code",
   "execution_count": 4,
   "id": "d0d7852c-139e-4f58-b3fc-fd1d48924a29",
   "metadata": {},
   "outputs": [
    {
     "ename": "ERROR",
     "evalue": "Error in parse(text = x, srcfile = src): <text>:1:5: unexpected numeric constant\n1: Feb 3\n        ^\n",
     "output_type": "error",
     "traceback": [
      "Error in parse(text = x, srcfile = src): <text>:1:5: unexpected numeric constant\n1: Feb 3\n        ^\nTraceback:\n"
     ]
    }
   ],
   "source": [
    "Feb 3 2025"
   ]
  },
  {
   "cell_type": "code",
   "execution_count": null,
   "id": "7ae22722-7dfa-482a-9171-526648cdfe6a",
   "metadata": {},
   "outputs": [],
   "source": []
  }
 ],
 "metadata": {
  "kernelspec": {
   "display_name": "R",
   "language": "R",
   "name": "ir"
  },
  "language_info": {
   "codemirror_mode": "r",
   "file_extension": ".r",
   "mimetype": "text/x-r-source",
   "name": "R",
   "pygments_lexer": "r",
   "version": "4.3.3"
  }
 },
 "nbformat": 4,
 "nbformat_minor": 5
}
